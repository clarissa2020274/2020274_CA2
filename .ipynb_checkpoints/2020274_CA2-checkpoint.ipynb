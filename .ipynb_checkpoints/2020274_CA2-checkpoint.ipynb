{
 "cells": [
  {
   "cell_type": "markdown",
   "id": "5d0e1860",
   "metadata": {},
   "source": [
    "### MSc Data Analytics \n",
    "\n",
    "##### CA2 - Integrated Assignment sem2\n",
    "\n",
    "#### 2020274 - Clarissa Cardoso\n",
    "\n",
    "\n",
    "\n",
    "\n",
    "\n",
    "This Notebook contains experimental features for CA2 using different databases to store and retreat files from. The goal of this project is to combine language processing techniques and a time series forecasting to predict the average sentiment of tweets for a certein period of time after the apropriate data cleaning and processing tecniques are applied.\n",
    "\n",
    "Fpr a better understanding the project will be divided into the following sections:\n",
    "\n",
    "- First section consists of importing dataset from various databases, and an attemp to evaluate their performance and usability, helping to select the most suitable dataset for the analysis.\n",
    "\n",
    "- Second section will focus on data cleaning and preprocessing the dataset\n",
    "\n",
    "- Third section focus on deeper EDA features and Natural Language Processing to undertand the dataset better prior to modeling and extract the sentiment from tweets given.\n",
    "\n",
    "- Section four centers on creating the time-series model and selection of apropriate parametrers and hyperparameters to run it.\n",
    "\n",
    "- Fifth section relies on training the model and validating/reacessing features that can be modified for better performance and compare model's results. \n",
    "\n",
    "\n",
    "\n",
    "\n"
   ]
  },
  {
   "cell_type": "markdown",
   "id": "3f7da644",
   "metadata": {},
   "source": [
    "#### Introduction\n",
    "\n",
    "\n",
    "The goal of this project is to perform an analysis of the given dataset containing several tweets while experimenting with different databases to store data as well as creating a  time series forecast of the sentiment of the dataset. \n",
    "\n",
    "For the initial experimentation, after instalation of different noSQL databases as seen in class tutorials, I have decided to start with Hbase. One of the reasons why this was the first database used for the project is that it is built on top of HDFS as a part of Hadoop environment and provides a faster lookup on files while displaying lower latency for queries. \n",
    "\n"
   ]
  },
  {
   "cell_type": "markdown",
   "id": "2b8f9e8f",
   "metadata": {},
   "source": [
    "### Libraries required for project\n"
   ]
  },
  {
   "cell_type": "code",
   "execution_count": 7,
   "id": "4e3ac7ec",
   "metadata": {
    "scrolled": true
   },
   "outputs": [
    {
     "ename": "ModuleNotFoundError",
     "evalue": "No module named 'pandas'",
     "output_type": "error",
     "traceback": [
      "\u001b[0;31m---------------------------------------------------------------------------\u001b[0m",
      "\u001b[0;31mModuleNotFoundError\u001b[0m                       Traceback (most recent call last)",
      "Cell \u001b[0;32mIn[7], line 33\u001b[0m\n\u001b[1;32m     30\u001b[0m \u001b[38;5;28;01mfrom\u001b[39;00m \u001b[38;5;21;01mpyspark\u001b[39;00m\u001b[38;5;21;01m.\u001b[39;00m\u001b[38;5;21;01msql\u001b[39;00m\u001b[38;5;21;01m.\u001b[39;00m\u001b[38;5;21;01mfunctions\u001b[39;00m \u001b[38;5;28;01mimport\u001b[39;00m lower\n\u001b[1;32m     32\u001b[0m \u001b[38;5;28;01mimport\u001b[39;00m \u001b[38;5;21;01mnumpy\u001b[39;00m \u001b[38;5;28;01mas\u001b[39;00m \u001b[38;5;21;01mnp\u001b[39;00m \u001b[38;5;66;03m# for numerical operations.\u001b[39;00m\n\u001b[0;32m---> 33\u001b[0m \u001b[38;5;28;01mimport\u001b[39;00m \u001b[38;5;21;01mpandas\u001b[39;00m \u001b[38;5;28;01mas\u001b[39;00m \u001b[38;5;21;01mpd\u001b[39;00m\n\u001b[1;32m     35\u001b[0m \u001b[38;5;28;01mimport\u001b[39;00m \u001b[38;5;21;01mmatplotlib\u001b[39;00m\u001b[38;5;21;01m.\u001b[39;00m\u001b[38;5;21;01mpyplot\u001b[39;00m \u001b[38;5;28;01mas\u001b[39;00m \u001b[38;5;21;01mplt\u001b[39;00m \u001b[38;5;66;03m# visualization\u001b[39;00m\n\u001b[1;32m     36\u001b[0m get_ipython()\u001b[38;5;241m.\u001b[39mrun_line_magic(\u001b[38;5;124m'\u001b[39m\u001b[38;5;124mmatplotlib\u001b[39m\u001b[38;5;124m'\u001b[39m, \u001b[38;5;124m'\u001b[39m\u001b[38;5;124minline\u001b[39m\u001b[38;5;124m'\u001b[39m)\n",
      "\u001b[0;31mModuleNotFoundError\u001b[0m: No module named 'pandas'"
     ]
    }
   ],
   "source": [
    "# importing necessary libraries to deploy pyspark functions\n",
    "\n",
    "from pyspark.sql import SparkSession\n",
    "from pyspark.ml.stat import Correlation\n",
    "from pyspark.ml.feature import VectorAssembler\n",
    "\n",
    "from pyspark.sql.functions import count # Funcion to get the \"size\" of the data.\n",
    "from pyspark.sql.functions import when # When function.\n",
    "from pyspark.sql.functions import col # Function column.\n",
    "from pyspark.sql.functions import mean, min, max, stddev # Imports function for statistical features. \n",
    "from pyspark.sql import functions as F # Data processing framework.\n",
    "from pyspark.sql.functions import size, split # Imports function size and split.\n",
    "from pyspark.ml.feature import Tokenizer # Importing Tokenizer.\n",
    "from pyspark.sql.functions import regexp_replace # Remove / Replace function.\n",
    "from pyspark.sql.types import StructField, StructType # Importing features for Schema.\n",
    "from pyspark.sql.types import IntegerType, StringType, TimestampType # Tools to create the schema.\n",
    "from pyspark.sql.functions import udf # Imports function UDF (user defined functions).\n",
    "from pyspark.sql.types import ArrayType, StringType\n",
    "from pyspark.ml.linalg import VectorUDT\n",
    "from pyspark.sql.functions import max as max_\n",
    "\n",
    "\n",
    "from pyspark.ml import Pipeline\n",
    "from pyspark.ml.feature import HashingTF, IDF, Tokenizer, StringIndexer, CountVectorizer, NGram, VectorAssembler, ChiSqSelector\n",
    "\n",
    "from pyspark.ml.feature import Tokenizer, StopWordsRemover\n",
    "from pyspark.sql.functions import udf\n",
    "from pyspark.sql.types import ArrayType, StringType\n",
    "from bs4 import BeautifulSoup  # For HTML parsing\n",
    "from pyspark.sql.functions import lower\n",
    "\n",
    "import numpy as np # for numerical operations.\n",
    "import pandas as pd\n",
    "\n",
    "import matplotlib.pyplot as plt # visualization\n",
    "%matplotlib inline \n",
    "\n",
    "import warnings # Ignore warnings.\n",
    "warnings.filterwarnings(\"ignore\")"
   ]
  },
  {
   "cell_type": "markdown",
   "id": "5b712d94",
   "metadata": {},
   "source": [
    "#### Importing dataset from HDFS\n",
    "\n",
    "My initial idea, once the dataset given was succesfuly stored in HDFS directory alocated for the CA development (\"CA2/ProjectTweets.csv\"), was to import it straighaway to a noSQL database and perform initial queries inside the HBase enviroment/shell to verify functionality.\n",
    "\n",
    "However my VM had continuous crashes during this process, and the HMaster node managed by Zookeeper kept showing slower times for initializing the commands. After a few seconds the Zookeeper Connection with HDFS and Hase nodes was lost and it was taking me a longer time span to find an alternative. Since the csv file was already in hadoop, I decided to first import from HDFS and the perform some initial cleaning and EDA using Spark framework to process the data to then store the cleneaded data back to HBAse through a connector between Pyspark and the database.\n",
    "\n",
    "\n",
    "- HDFS (Hadoop Distributed File System) is the primary storage system used by Hadoop applications. This open source framework works by rapidly transferring data between nodes. It's often used by companies who need to handle and store big data. <https://www.databricks.com/glossary>"
   ]
  },
  {
   "cell_type": "markdown",
   "id": "26cc6424",
   "metadata": {},
   "source": [
    "## Import modules, create Spark Session and read file into dataframe\n",
    "\n",
    "First step is to perform some basic exploratory data analysis to get a sense of the data. \n",
    "\n",
    "#### Check the first few rows of the dataset with .show()\n",
    "\n",
    "File was imported with a header marked as 'false' so pyspark will input labels insted of using the first row. This makes room to rename the labels in coming steps. set up schema as true so pyspark utilises the same scema present in the original file, without overlapping the columns.\n",
    "\n"
   ]
  },
  {
   "cell_type": "code",
   "execution_count": 8,
   "id": "0863cbec",
   "metadata": {},
   "outputs": [
    {
     "name": "stderr",
     "output_type": "stream",
     "text": [
      "                                                                                \r"
     ]
    },
    {
     "name": "stdout",
     "output_type": "stream",
     "text": [
      "+---+----------+--------------------+--------+---------------+--------------------+\n",
      "|_c0|       _c1|                 _c2|     _c3|            _c4|                 _c5|\n",
      "+---+----------+--------------------+--------+---------------+--------------------+\n",
      "|  0|1467810369|Mon Apr 06 22:19:...|NO_QUERY|_TheSpecialOne_|@switchfoot http:...|\n",
      "|  1|1467810672|Mon Apr 06 22:19:...|NO_QUERY|  scotthamilton|is upset that he ...|\n",
      "|  2|1467810917|Mon Apr 06 22:19:...|NO_QUERY|       mattycus|@Kenichan I dived...|\n",
      "|  3|1467811184|Mon Apr 06 22:19:...|NO_QUERY|        ElleCTF|my whole body fee...|\n",
      "|  4|1467811193|Mon Apr 06 22:19:...|NO_QUERY|         Karoli|@nationwideclass ...|\n",
      "|  5|1467811372|Mon Apr 06 22:20:...|NO_QUERY|       joy_wolf|@Kwesidei not the...|\n",
      "|  6|1467811592|Mon Apr 06 22:20:...|NO_QUERY|        mybirch|         Need a hug |\n",
      "|  7|1467811594|Mon Apr 06 22:20:...|NO_QUERY|           coZZ|@LOLTrish hey  lo...|\n",
      "|  8|1467811795|Mon Apr 06 22:20:...|NO_QUERY|2Hood4Hollywood|@Tatiana_K nope t...|\n",
      "|  9|1467812025|Mon Apr 06 22:20:...|NO_QUERY|        mimismo|@twittera que me ...|\n",
      "| 10|1467812416|Mon Apr 06 22:20:...|NO_QUERY| erinx3leannexo|spring break in p...|\n",
      "| 11|1467812579|Mon Apr 06 22:20:...|NO_QUERY|   pardonlauren|I just re-pierced...|\n",
      "| 12|1467812723|Mon Apr 06 22:20:...|NO_QUERY|           TLeC|@caregiving I cou...|\n",
      "| 13|1467812771|Mon Apr 06 22:20:...|NO_QUERY|robrobbierobert|@octolinz16 It it...|\n",
      "| 14|1467812784|Mon Apr 06 22:20:...|NO_QUERY|    bayofwolves|@smarrison i woul...|\n",
      "| 15|1467812799|Mon Apr 06 22:20:...|NO_QUERY|     HairByJess|@iamjazzyfizzle I...|\n",
      "| 16|1467812964|Mon Apr 06 22:20:...|NO_QUERY| lovesongwriter|Hollis' death sce...|\n",
      "| 17|1467813137|Mon Apr 06 22:20:...|NO_QUERY|       armotley|about to file taxes |\n",
      "| 18|1467813579|Mon Apr 06 22:20:...|NO_QUERY|     starkissed|@LettyA ahh ive a...|\n",
      "| 19|1467813782|Mon Apr 06 22:20:...|NO_QUERY|      gi_gi_bee|@FakerPattyPattz ...|\n",
      "+---+----------+--------------------+--------+---------------+--------------------+\n",
      "only showing top 20 rows\n",
      "\n"
     ]
    }
   ],
   "source": [
    "from pyspark.sql import SparkSession\n",
    "\n",
    "# Initialize SparkSession including Legacy for timestamp\n",
    "spark = SparkSession.builder.appName(\"Test Tweets\")\\\n",
    "    .config(\"spark.sql.legacy.timeParserPolicy\", \"LEGACY\")\\\n",
    "    .config(\"spark.jars.packages\", \"com.johnsnowlabs.nlp:spark-nlp_2.12:5.1.4\")\\\n",
    "    .config(\"spark.serializer\", \"org.apache.spark.serializer.KryoSerializer\") \\\n",
    "    .config(\"spark.kryo.registrator\", \"com.johnsnowlabs.nlp.serialization.SparkNLPKryoRegistrator\") \\\n",
    "    .getOrCreate()\n",
    "\n",
    "# Define the file path in HDFS\n",
    "file_path = \"hdfs:///user/hduser/CA2/ProjectTweets.csv\"\n",
    "\n",
    "# Read the CSV file\n",
    "tweets_test = spark.read.csv(file_path, header=False, inferSchema=True)\n",
    "\n",
    "# Show the DataFrame (optional)\n",
    "tweets_test.show()\n"
   ]
  },
  {
   "cell_type": "markdown",
   "id": "502e0566",
   "metadata": {},
   "source": [
    "#### Checking the schema of the dataset\n",
    "\n",
    "From this function we see most of the data is composed by strings, which makes sense, since we are working with mostly text. However, on the third column, with the dates of each tweet, we must have a datetime datatype in order to perform the timeseries analysis on further stages. \n",
    "\n"
   ]
  },
  {
   "cell_type": "code",
   "execution_count": 9,
   "id": "a294330b",
   "metadata": {},
   "outputs": [
    {
     "name": "stdout",
     "output_type": "stream",
     "text": [
      "root\n",
      " |-- _c0: integer (nullable = true)\n",
      " |-- _c1: long (nullable = true)\n",
      " |-- _c2: string (nullable = true)\n",
      " |-- _c3: string (nullable = true)\n",
      " |-- _c4: string (nullable = true)\n",
      " |-- _c5: string (nullable = true)\n",
      "\n"
     ]
    }
   ],
   "source": [
    "# print schema\n",
    "tweets_test.printSchema()"
   ]
  },
  {
   "cell_type": "code",
   "execution_count": 10,
   "id": "5889696d",
   "metadata": {},
   "outputs": [
    {
     "name": "stderr",
     "output_type": "stream",
     "text": [
      "[Stage 3:==============>                                            (1 + 3) / 4]\r"
     ]
    },
    {
     "name": "stdout",
     "output_type": "stream",
     "text": [
      "+-------+------------------+--------------------+--------------------+--------+--------------------+--------------------+\n",
      "|summary|               _c0|                 _c1|                 _c2|     _c3|                 _c4|                 _c5|\n",
      "+-------+------------------+--------------------+--------------------+--------+--------------------+--------------------+\n",
      "|  count|           1600000|             1600000|             1600000| 1600000|             1600000|             1600000|\n",
      "|   mean|          799999.5|1.9988175522956276E9|                null|    null| 4.325887521835714E9|                null|\n",
      "| stddev|461880.35968924535|1.9357607362267256E8|                null|    null|5.162733218454889E10|                null|\n",
      "|    min|                 0|          1467810369|Fri Apr 17 20:30:...|NO_QUERY|        000catnap000|                 ...|\n",
      "|    max|           1599999|          2329205794|Wed May 27 07:27:...|NO_QUERY|          zzzzeus111|ï¿½ï¿½ï¿½ï¿½ï¿½ß§...|\n",
      "+-------+------------------+--------------------+--------------------+--------+--------------------+--------------------+\n",
      "\n"
     ]
    },
    {
     "name": "stderr",
     "output_type": "stream",
     "text": [
      "                                                                                \r"
     ]
    }
   ],
   "source": [
    "# get summary statistics\n",
    "tweets_test.describe().show()"
   ]
  },
  {
   "cell_type": "markdown",
   "id": "a97a2833",
   "metadata": {},
   "source": [
    "### Part I : Data Pre-Processing and Cleaning"
   ]
  },
  {
   "cell_type": "markdown",
   "id": "8f59afc2",
   "metadata": {},
   "source": [
    "\n",
    "Rename cols and drop c1\n",
    "\n",
    "Convert the date column to a timestamp format"
   ]
  },
  {
   "cell_type": "code",
   "execution_count": 11,
   "id": "508dd527",
   "metadata": {},
   "outputs": [
    {
     "name": "stdout",
     "output_type": "stream",
     "text": [
      "+-----+--------------------+----------+---------------+--------------------+\n",
      "|index|                date|query_flag|           user|                text|\n",
      "+-----+--------------------+----------+---------------+--------------------+\n",
      "|    0|Mon Apr 06 22:19:...|  NO_QUERY|_TheSpecialOne_|@switchfoot http:...|\n",
      "|    1|Mon Apr 06 22:19:...|  NO_QUERY|  scotthamilton|is upset that he ...|\n",
      "|    2|Mon Apr 06 22:19:...|  NO_QUERY|       mattycus|@Kenichan I dived...|\n",
      "|    3|Mon Apr 06 22:19:...|  NO_QUERY|        ElleCTF|my whole body fee...|\n",
      "|    4|Mon Apr 06 22:19:...|  NO_QUERY|         Karoli|@nationwideclass ...|\n",
      "|    5|Mon Apr 06 22:20:...|  NO_QUERY|       joy_wolf|@Kwesidei not the...|\n",
      "|    6|Mon Apr 06 22:20:...|  NO_QUERY|        mybirch|         Need a hug |\n",
      "|    7|Mon Apr 06 22:20:...|  NO_QUERY|           coZZ|@LOLTrish hey  lo...|\n",
      "|    8|Mon Apr 06 22:20:...|  NO_QUERY|2Hood4Hollywood|@Tatiana_K nope t...|\n",
      "|    9|Mon Apr 06 22:20:...|  NO_QUERY|        mimismo|@twittera que me ...|\n",
      "|   10|Mon Apr 06 22:20:...|  NO_QUERY| erinx3leannexo|spring break in p...|\n",
      "|   11|Mon Apr 06 22:20:...|  NO_QUERY|   pardonlauren|I just re-pierced...|\n",
      "|   12|Mon Apr 06 22:20:...|  NO_QUERY|           TLeC|@caregiving I cou...|\n",
      "|   13|Mon Apr 06 22:20:...|  NO_QUERY|robrobbierobert|@octolinz16 It it...|\n",
      "|   14|Mon Apr 06 22:20:...|  NO_QUERY|    bayofwolves|@smarrison i woul...|\n",
      "|   15|Mon Apr 06 22:20:...|  NO_QUERY|     HairByJess|@iamjazzyfizzle I...|\n",
      "|   16|Mon Apr 06 22:20:...|  NO_QUERY| lovesongwriter|Hollis' death sce...|\n",
      "|   17|Mon Apr 06 22:20:...|  NO_QUERY|       armotley|about to file taxes |\n",
      "|   18|Mon Apr 06 22:20:...|  NO_QUERY|     starkissed|@LettyA ahh ive a...|\n",
      "|   19|Mon Apr 06 22:20:...|  NO_QUERY|      gi_gi_bee|@FakerPattyPattz ...|\n",
      "+-----+--------------------+----------+---------------+--------------------+\n",
      "only showing top 20 rows\n",
      "\n"
     ]
    }
   ],
   "source": [
    "from pyspark.sql.functions import to_timestamp\n",
    "\n",
    "tweets_test = tweets_test.drop(\"_c1\") \\\n",
    "           .withColumnRenamed(\"_c0\", \"index\") \\\n",
    "           .withColumnRenamed(\"_c2\", \"date\") \\\n",
    "           .withColumnRenamed(\"_c3\", \"query_flag\") \\\n",
    "           .withColumnRenamed(\"_c4\", \"user\") \\\n",
    "           .withColumnRenamed(\"_c5\", \"text\") \\\n",
    "\n",
    "tweets_test.show()"
   ]
  },
  {
   "cell_type": "markdown",
   "id": "c607de02",
   "metadata": {},
   "source": [
    "View a sample of the 'date' column, using the sample() function to double check the timezone used before conversion.\n"
   ]
  },
  {
   "cell_type": "code",
   "execution_count": 12,
   "id": "1e018e5e",
   "metadata": {},
   "outputs": [
    {
     "name": "stdout",
     "output_type": "stream",
     "text": [
      "+--------------------+\n",
      "|                date|\n",
      "+--------------------+\n",
      "|Mon Apr 06 22:20:...|\n",
      "|Mon Apr 06 22:20:...|\n",
      "|Mon Apr 06 22:20:...|\n",
      "|Mon Apr 06 22:22:...|\n",
      "|Mon Apr 06 22:22:...|\n",
      "|Mon Apr 06 22:23:...|\n",
      "|Mon Apr 06 22:23:...|\n",
      "|Mon Apr 06 22:23:...|\n",
      "|Mon Apr 06 22:25:...|\n",
      "|Mon Apr 06 22:26:...|\n",
      "|Mon Apr 06 22:26:...|\n",
      "|Mon Apr 06 22:26:...|\n",
      "|Mon Apr 06 22:26:...|\n",
      "|Mon Apr 06 22:26:...|\n",
      "|Mon Apr 06 22:26:...|\n",
      "|Mon Apr 06 22:27:...|\n",
      "|Mon Apr 06 22:27:...|\n",
      "|Mon Apr 06 22:28:...|\n",
      "|Mon Apr 06 22:28:...|\n",
      "|Mon Apr 06 22:31:...|\n",
      "+--------------------+\n",
      "only showing top 20 rows\n",
      "\n"
     ]
    }
   ],
   "source": [
    "# see 10% of date row to see correct timezone before converting\n",
    "tweets_test.select(\"date\").sample(False, 0.1, seed=42).show()\n"
   ]
  },
  {
   "cell_type": "code",
   "execution_count": 13,
   "id": "093c5882",
   "metadata": {},
   "outputs": [
    {
     "name": "stdout",
     "output_type": "stream",
     "text": [
      "Mon Apr 06 22:19:45 PDT 2009\n",
      "Mon Apr 06 22:19:49 PDT 2009\n",
      "Mon Apr 06 22:19:53 PDT 2009\n",
      "Mon Apr 06 22:19:57 PDT 2009\n",
      "Mon Apr 06 22:19:57 PDT 2009\n",
      "Mon Apr 06 22:20:00 PDT 2009\n",
      "Mon Apr 06 22:20:03 PDT 2009\n",
      "Mon Apr 06 22:20:03 PDT 2009\n",
      "Mon Apr 06 22:20:05 PDT 2009\n",
      "Mon Apr 06 22:20:09 PDT 2009\n"
     ]
    }
   ],
   "source": [
    "# limit to 10 rows of date col.\n",
    "sample_date_values = tweets_test.select(\"date\").limit(10).collect()\n",
    "for row in sample_date_values:\n",
    "    print(row.date)\n",
    "\n",
    "    #with this we can confirm the PDT - Pacific Day Time for apropriate conversion to timestamp.\n",
    "    # this may influence further analysis. "
   ]
  },
  {
   "cell_type": "markdown",
   "id": "41d861e2",
   "metadata": {},
   "source": [
    "it's important to account for the PDT timezone used. When converting to datetime, the new schema was in the apropriate datatypes, however when i tried to sample the 'date' rows again i got an error as seen below: \n",
    "\n",
    "> <font color='red'> <b>Py4JJavaError:</b> An error occurred while calling o100.showString.\n",
    ": org.apache.spark.SparkUpgradeException: You may get a different result due to the upgrading of Spark 3.0: Fail to recognize 'EEE MMM dd HH:mm:ss z yyyy' pattern in the DateTimeFormatter. 1) You can set spark.sql.legacy.timeParserPolicy to LEGACY to restore the behavior before Spark 3.0. 2) You can form a valid datetime pattern with the guide from https://spark.apache.org/docs/latest/sql-ref-datetime-pattern.html </font> \n",
    "\n",
    "So according to Apache Spark documentation, I added a date parsing from java with SimpleDateFormat class to allow customization of the date format of the strings. For that the timezone needs to be specified to avoid any discrepancies. In this case, PDT is UTC-7 which is represented by 'z' in the Apache datetime patterns doc. \n"
   ]
  },
  {
   "cell_type": "code",
   "execution_count": 14,
   "id": "b953588f",
   "metadata": {},
   "outputs": [],
   "source": [
    "from pyspark.sql.functions import to_timestamp\n",
    "\n",
    "tweets_test = tweets_test.withColumn(\"date\", to_timestamp(tweets_test.date, \"EEE MMM dd HH:mm:ss z yyyy\"))\n"
   ]
  },
  {
   "cell_type": "code",
   "execution_count": 15,
   "id": "bd5df066",
   "metadata": {},
   "outputs": [
    {
     "name": "stdout",
     "output_type": "stream",
     "text": [
      "root\n",
      " |-- index: integer (nullable = true)\n",
      " |-- date: timestamp (nullable = true)\n",
      " |-- query_flag: string (nullable = true)\n",
      " |-- user: string (nullable = true)\n",
      " |-- text: string (nullable = true)\n",
      "\n"
     ]
    }
   ],
   "source": [
    "# print schema\n",
    "tweets_test.printSchema()"
   ]
  },
  {
   "cell_type": "markdown",
   "id": "f715351a",
   "metadata": {},
   "source": [
    "#### Checking for missing values and shape\n"
   ]
  },
  {
   "cell_type": "code",
   "execution_count": 16,
   "id": "39e25325",
   "metadata": {},
   "outputs": [
    {
     "name": "stderr",
     "output_type": "stream",
     "text": [
      "[Stage 9:==============>                                            (1 + 3) / 4]\r"
     ]
    },
    {
     "name": "stdout",
     "output_type": "stream",
     "text": [
      "+-----+----+----------+----+----+\n",
      "|index|date|query_flag|user|text|\n",
      "+-----+----+----------+----+----+\n",
      "|    0|   0|         0|   0|   0|\n",
      "+-----+----+----------+----+----+\n",
      "\n"
     ]
    },
    {
     "name": "stderr",
     "output_type": "stream",
     "text": [
      "                                                                                \r"
     ]
    }
   ],
   "source": [
    "from pyspark.sql.functions import count, when, col\n",
    "# Check for missing values in each column\n",
    "tweets_test.select([count(when(col(c).isNull(), c)).alias(c) for c in tweets_test.columns]).show()"
   ]
  },
  {
   "cell_type": "code",
   "execution_count": 17,
   "id": "59e0e043",
   "metadata": {},
   "outputs": [
    {
     "name": "stdout",
     "output_type": "stream",
     "text": [
      "Number of Rows: 1600000\n",
      "Number of Columns: 5\n"
     ]
    },
    {
     "name": "stderr",
     "output_type": "stream",
     "text": [
      "                                                                                \r"
     ]
    }
   ],
   "source": [
    "# print the sahpe of the dataset\n",
    "num_rows = tweets_test.count()\n",
    "num_cols = len(tweets_test.columns)\n",
    "\n",
    "print(f\"Number of Rows: {num_rows}\")\n",
    "print(f\"Number of Columns: {num_cols}\")"
   ]
  },
  {
   "cell_type": "markdown",
   "id": "68feb13d",
   "metadata": {},
   "source": []
  },
  {
   "cell_type": "code",
   "execution_count": 18,
   "id": "aa663cc0",
   "metadata": {
    "scrolled": true
   },
   "outputs": [
    {
     "name": "stdout",
     "output_type": "stream",
     "text": [
      "+-----+-------------------+----------+---------------+--------------------+\n",
      "|index|               date|query_flag|           user|                text|\n",
      "+-----+-------------------+----------+---------------+--------------------+\n",
      "|    0|2009-04-07 05:19:45|  NO_QUERY|_TheSpecialOne_|@switchfoot http:...|\n",
      "|    1|2009-04-07 05:19:49|  NO_QUERY|  scotthamilton|is upset that he ...|\n",
      "|    2|2009-04-07 05:19:53|  NO_QUERY|       mattycus|@Kenichan I dived...|\n",
      "|    3|2009-04-07 05:19:57|  NO_QUERY|        ElleCTF|my whole body fee...|\n",
      "|    4|2009-04-07 05:19:57|  NO_QUERY|         Karoli|@nationwideclass ...|\n",
      "+-----+-------------------+----------+---------------+--------------------+\n",
      "only showing top 5 rows\n",
      "\n"
     ]
    }
   ],
   "source": [
    "tweets_test.dropna()  # Drop rows containing NaN values for simplicity\n",
    "tweets_test.show(5)"
   ]
  },
  {
   "cell_type": "markdown",
   "id": "66dbcb54",
   "metadata": {},
   "source": [
    "#### Pyspark has some inbuilt functions for starting tne text processing, such as lowercasing, removing special characters and stopwords. \n",
    "\n",
    "The following text data preprocessing steps using PySpark functions are:\n",
    "\n",
    "Lowercasing: We use the lower() function to convert all text to lowercase.\n",
    "\n",
    "Removing Special Characters: We use regexp_replace() to remove any characters that are not alphanumeric or whitespace.\n",
    "\n",
    "Removing Stopwords: We use the StopWordsRemover from the pyspark.ml.feature module to remove common stopwords.\n",
    "\n",
    "The resulting DataFrame tweets_test will have the preprocessed text in the 'text' column.\n",
    "\n",
    "PySpark doesn't have built-in support for stemming or lemmatization. To implement these kind of techniques, external libraries such as nltk can be implemented/imported. \n",
    "<b>NLTK<b/> provides a wide range of tools and resources for working with human language data, and it can complement Spark's capabilities in certain scenarios. \n",
    "\n",
    "However, when i tried to import the nltk functions to my vm, i encountered a series of incompatibility issues. Even after creating a virtual environment i was not able to install the library, and the same happened when i tried to install <b>Sparknlp<b/>, which is the language processing tool whitin the Spark enviroment considered to be the state of the art for a number of functionalities in the NLP area. \n",
    "\n",
    "There was also an attempt, as suggested by SparkNLP documentaroin, to inicialize pyspark with the additional packages for language processing but when i tried to import it back to the notebook it would not find the module installed, even when i apply the same command (pyspark --packages com.johnsnowlabs.nlp:spark-nlp_2.12:5.1.4) to the virtual env the packages were installed. A third nlp library was also atempted to import via pip: <b>textblob<b/>\n",
    "    \n",
    "#error: externally-managed-environment (#error: externally-managed-environment)\n",
    "\n",
    "With the command found in stackoverflow (sudo apt install python3-nltk) available at https://askubuntu.com/questions/996185/how-can-i-install-nltk-for-python-3\n",
    "\n",
    "i was able to go back to my original choice of applying nltk tools for extracting the sentiment of the tweets given."
   ]
  },
  {
   "cell_type": "code",
   "execution_count": 19,
   "id": "d1995f40",
   "metadata": {},
   "outputs": [],
   "source": [
    "#pip install beautifulsoup4 using virtual enviroment 'myenv'"
   ]
  },
  {
   "cell_type": "markdown",
   "id": "01c7bdaa",
   "metadata": {},
   "source": [
    "Tokenization is performed using the Tokenizer class.\n",
    "\n",
    "HTML parsing is done using the BeautifulSoup library, and a user-defined function (parse_html_udf) is registered and applied to create a new column named \"cleaned_text.\"\n",
    "\n",
    "A user-defined function is applied to remove special characters and numbers from the \"cleaned_text\" column.\n",
    "Stop words are removed using the StopWordsRemover class."
   ]
  },
  {
   "cell_type": "raw",
   "id": "c2b5172f",
   "metadata": {},
   "source": [
    "from pyspark.sql.functions import udf, lower\n",
    "from pyspark.sql.types import StringType\n",
    "import re\n",
    "\n",
    "# Define a function to remove special characters and punctuation\n",
    "def remove_special_chars(text):\n",
    "    return re.sub(r'[^a-zA-Z0-9\\s]', '', text)\n",
    "\n",
    "# Create a UDF (User Defined Function) and apply it to the DataFrame\n",
    "remove_special_chars_udf = udf(remove_special_chars, StringType())\n",
    "df_cleaned = tweets_test.withColumn('cleaned_words', remove_special_chars_udf('filtered_words'))\n",
    "\n",
    "# Convert text to lowercase\n",
    "df_cleaned = df_cleaned.withColumn('cleaned_words', lower('cleaned_words'))\n",
    "\n",
    "# Remove duplicates\n",
    "df_cleaned = df_cleaned.dropDuplicates(['cleaned_words'])\n",
    "\n",
    "# Remove rows with empty 'cleaned_words'\n",
    "df_cleaned = df_cleaned.filter(df_cleaned.cleaned_words != '')\n",
    "\n",
    "# Show the result\n",
    "df_cleaned.show(5,truncate=False)"
   ]
  },
  {
   "cell_type": "code",
   "execution_count": 20,
   "id": "913152d2",
   "metadata": {},
   "outputs": [],
   "source": [
    "\n",
    "\n",
    "# Convert text to lowercase\n",
    "#df_cleaned = df_cleaned.withColumn('cleaned_words', lower('cleaned_words'))\n",
    "\n",
    "# Remove duplicate rows based on the 'cleaned_words' column\n",
    "#df_cleaned = df_cleaned.dropDuplicates(['cleaned_words'])\n",
    "\n",
    "# Remove rows with empty 'cleaned_words'\n",
    "#df_cleaned = df_cleaned.filter(df_cleaned.cleaned_words != '')\n",
    "\n",
    "# Show the result\n",
    "#df_cleaned.show(5,truncate=False)"
   ]
  },
  {
   "cell_type": "markdown",
   "id": "c690a9b3",
   "metadata": {},
   "source": [
    "Removing noise from data: \n",
    "    -Stop words\n",
    "    -Special characters\n",
    "    -transform all to lower case letters\n",
    "    -remove numbers, duplicate characters and punctuation"
   ]
  },
  {
   "cell_type": "code",
   "execution_count": 21,
   "id": "bb543ac8",
   "metadata": {},
   "outputs": [
    {
     "name": "stdout",
     "output_type": "stream",
     "text": [
      "+-----------------------------------------------------------------------------------------------------------+\n",
      "|text                                                                                                       |\n",
      "+-----------------------------------------------------------------------------------------------------------+\n",
      "|   a11 thats a bummer  you shoulda got david carr of third day to do it d                                  |\n",
      "|is upset that he cant update his facebook by texting it11 and might cry as a result  school today also blah|\n",
      "| i dived many times for the ball managed to save   the rest go out of bounds                               |\n",
      "|my whole body feels itchy and like its on fire                                                             |\n",
      "| no its not behaving at all im mad why am i here because i cant see you all over there                     |\n",
      "| not the whole crew                                                                                        |\n",
      "|need a hug                                                                                                 |\n",
      "| hey  long time no see yes rains a bit only a bit  lol  im fine thanks  hows you                           |\n",
      "| nope they didnt have it                                                                                   |\n",
      "| que me muera                                                                                              |\n",
      "|spring break in plain city11 its snowing                                                                   |\n",
      "|i just repierced my ears                                                                                   |\n",
      "| i couldnt bear to watch it  and i thought the ua loss was embarrassing                                    |\n",
      "| it it counts idk why i did either you never talk to me anymore                                            |\n",
      "| i wouldve been the first but i didnt have a gun11not really though zac snyders just a doucheclown         |\n",
      "| i wish i got to watch it with you i miss you and11how was the premiere                                    |\n",
      "|hollis death scene will hurt me severely to watch on film  wry is directors cut not out now                |\n",
      "|about to file taxes                                                                                        |\n",
      "| ahh ive always wanted to see rent  love the soundtrack                                                    |\n",
      "| oh dear were you drinking out of the forgotten table drinks                                               |\n",
      "+-----------------------------------------------------------------------------------------------------------+\n",
      "only showing top 20 rows\n",
      "\n"
     ]
    }
   ],
   "source": [
    "# Remove URLs\n",
    "tweets_test = tweets_test.withColumn(\"text\", F.regexp_replace(F.col(\"text\"), \"http(s)?://[^\\\\s]+\", \"\"))\n",
    "\n",
    "# Remove HTML tags\n",
    "tweets_test = tweets_test.withColumn(\"text\", F.regexp_replace(F.col(\"text\"), \"<[^>]+>\", \"\"))\n",
    "\n",
    "# Remove mentions (i.e., @username)\n",
    "tweets_test = tweets_test.withColumn(\"text\", F.regexp_replace(F.col(\"text\"), \"@\\\\w+\", \"\"))\n",
    "\n",
    "# Convert to lowercase\n",
    "tweets_test = tweets_test.withColumn('text', lower(tweets_test['text']))\n",
    "\n",
    "# Remove numbers from the \"text\" column\n",
    "tweets_test = tweets_test.withColumn('text', regexp_replace(tweets_test['text'], r'\\d+', ''))\n",
    "\n",
    "# Reduce excessive characters (more than two of the same in a row)\n",
    "tweets_test = tweets_test.withColumn('text', regexp_replace('text', r'(.)\\1{2,}', r'\\1\\1'))\n",
    "\n",
    "# Remove punctuation\n",
    "tweets_test = tweets_test.withColumn('text', regexp_replace(tweets_test['text'], r\"[^\\w\\s]\", \"\"))\n",
    "\n",
    "tweets_test.select(\"text\").show(truncate=False)"
   ]
  },
  {
   "cell_type": "code",
   "execution_count": null,
   "id": "6bdbae23",
   "metadata": {},
   "outputs": [],
   "source": []
  },
  {
   "cell_type": "code",
   "execution_count": null,
   "id": "ef984308",
   "metadata": {},
   "outputs": [],
   "source": []
  },
  {
   "cell_type": "code",
   "execution_count": 22,
   "id": "240940f4",
   "metadata": {},
   "outputs": [
    {
     "name": "stdout",
     "output_type": "stream",
     "text": [
      "+-----+-------------------+-----------------------------------------------------------------------------------------------------------+\n",
      "|index|date               |text                                                                                                       |\n",
      "+-----+-------------------+-----------------------------------------------------------------------------------------------------------+\n",
      "|0    |2009-04-07 05:19:45|   a11 thats a bummer  you shoulda got david carr of third day to do it d                                  |\n",
      "|1    |2009-04-07 05:19:49|is upset that he cant update his facebook by texting it11 and might cry as a result  school today also blah|\n",
      "|2    |2009-04-07 05:19:53| i dived many times for the ball managed to save   the rest go out of bounds                               |\n",
      "|3    |2009-04-07 05:19:57|my whole body feels itchy and like its on fire                                                             |\n",
      "|4    |2009-04-07 05:19:57| no its not behaving at all im mad why am i here because i cant see you all over there                     |\n",
      "+-----+-------------------+-----------------------------------------------------------------------------------------------------------+\n",
      "only showing top 5 rows\n",
      "\n"
     ]
    }
   ],
   "source": [
    "# Drop the 'flag' and 'user' columns\n",
    "tweets_test = tweets_test.drop('query_flag', 'user')\n",
    "\n",
    "# Show the result\n",
    "tweets_test.show(5,truncate=False)"
   ]
  },
  {
   "cell_type": "markdown",
   "id": "34b6d38a",
   "metadata": {},
   "source": [
    "### Tokenization\n",
    "\n"
   ]
  },
  {
   "cell_type": "code",
   "execution_count": 23,
   "id": "31f00a98",
   "metadata": {},
   "outputs": [
    {
     "name": "stdout",
     "output_type": "stream",
     "text": [
      "+-----+-------------------+-----------------------------------------------------------------------------------------------------------+----------------------------------------------------------------------------------------------------------------------------------+\n",
      "|index|date               |text                                                                                                       |words                                                                                                                             |\n",
      "+-----+-------------------+-----------------------------------------------------------------------------------------------------------+----------------------------------------------------------------------------------------------------------------------------------+\n",
      "|0    |2009-04-07 05:19:45|   a11 thats a bummer  you shoulda got david carr of third day to do it d                                  |[, , , a11, thats, a, bummer, , you, shoulda, got, david, carr, of, third, day, to, do, it, d]                                    |\n",
      "|1    |2009-04-07 05:19:49|is upset that he cant update his facebook by texting it11 and might cry as a result  school today also blah|[is, upset, that, he, cant, update, his, facebook, by, texting, it11, and, might, cry, as, a, result, , school, today, also, blah]|\n",
      "|2    |2009-04-07 05:19:53| i dived many times for the ball managed to save   the rest go out of bounds                               |[, i, dived, many, times, for, the, ball, managed, to, save, , , the, rest, go, out, of, bounds]                                  |\n",
      "|3    |2009-04-07 05:19:57|my whole body feels itchy and like its on fire                                                             |[my, whole, body, feels, itchy, and, like, its, on, fire]                                                                         |\n",
      "|4    |2009-04-07 05:19:57| no its not behaving at all im mad why am i here because i cant see you all over there                     |[, no, its, not, behaving, at, all, im, mad, why, am, i, here, because, i, cant, see, you, all, over, there]                      |\n",
      "+-----+-------------------+-----------------------------------------------------------------------------------------------------------+----------------------------------------------------------------------------------------------------------------------------------+\n",
      "only showing top 5 rows\n",
      "\n"
     ]
    }
   ],
   "source": [
    "# Tokenization\n",
    "tokenizer = Tokenizer(inputCol=\"text\", outputCol=\"words\")\n",
    "tweets_df = tokenizer.transform(tweets_test)\n",
    "\n",
    "# Show the result\n",
    "tweets_df.show(5,truncate=False)"
   ]
  },
  {
   "cell_type": "code",
   "execution_count": 24,
   "id": "baff51b7",
   "metadata": {},
   "outputs": [
    {
     "name": "stdout",
     "output_type": "stream",
     "text": [
      "+-----+-------------------+-----------------------------------------------------------------------------------------------------------+\n",
      "|index|date               |text                                                                                                       |\n",
      "+-----+-------------------+-----------------------------------------------------------------------------------------------------------+\n",
      "|0    |2009-04-07 05:19:45|   a11 thats a bummer  you shoulda got david carr of third day to do it d                                  |\n",
      "|1    |2009-04-07 05:19:49|is upset that he cant update his facebook by texting it11 and might cry as a result  school today also blah|\n",
      "|2    |2009-04-07 05:19:53| i dived many times for the ball managed to save   the rest go out of bounds                               |\n",
      "|3    |2009-04-07 05:19:57|my whole body feels itchy and like its on fire                                                             |\n",
      "|4    |2009-04-07 05:19:57| no its not behaving at all im mad why am i here because i cant see you all over there                     |\n",
      "+-----+-------------------+-----------------------------------------------------------------------------------------------------------+\n",
      "only showing top 5 rows\n",
      "\n"
     ]
    }
   ],
   "source": [
    "# Show the result\n",
    "tweets_test.show(5,truncate=False)"
   ]
  },
  {
   "cell_type": "code",
   "execution_count": 36,
   "id": "ab5ec543-2156-45c8-9344-a00b26145bcc",
   "metadata": {},
   "outputs": [],
   "source": [
    "from sparknlp.pretrained import PretrainedPipeline\n",
    "\n",
    "#pipeline = PretrainedPipeline(\"analyze_sentiment\")"
   ]
  },
  {
   "cell_type": "code",
   "execution_count": 37,
   "id": "1c799443-2c64-42d6-b501-f7377412e8ea",
   "metadata": {},
   "outputs": [],
   "source": [
    "from pyspark.sql.functions import lit\n",
    "\n",
    "# Assuming your existing DataFrame is named `tweets_df` and tokenized words are in the column \"words\"\n",
    "# Add a label column (e.g., 1 for positive, 0 for negative)\n",
    "labeled_df = tweets_df.withColumn(\"label\", lit(1))  # You can customize this based on your sentiment classes"
   ]
  },
  {
   "cell_type": "code",
   "execution_count": 38,
   "id": "965c8d98-2374-4434-9b96-dffcd93fe868",
   "metadata": {},
   "outputs": [],
   "source": [
    "from pyspark.sql.functions import concat_ws\n",
    "\n",
    "# Combine tokenized words into a single column\n",
    "labeled_df = labeled_df.withColumn(\"combined_text\", concat_ws(\" \", \"words\"))"
   ]
  },
  {
   "cell_type": "code",
   "execution_count": 43,
   "id": "5c211d27-b532-4d70-be32-b770416596b4",
   "metadata": {},
   "outputs": [
    {
     "ename": "Py4JJavaError",
     "evalue": "An error occurred while calling o747.fit.\n: java.util.NoSuchElementException: Failed to find a default value for dictionary\n\tat org.apache.spark.ml.param.Params.$anonfun$getOrDefault$2(params.scala:758)\n\tat scala.Option.getOrElse(Option.scala:189)\n\tat org.apache.spark.ml.param.Params.getOrDefault(params.scala:758)\n\tat org.apache.spark.ml.param.Params.getOrDefault$(params.scala:755)\n\tat org.apache.spark.ml.PipelineStage.getOrDefault(Pipeline.scala:41)\n\tat org.apache.spark.ml.param.Params.$(params.scala:764)\n\tat org.apache.spark.ml.param.Params.$$(params.scala:764)\n\tat org.apache.spark.ml.PipelineStage.$(Pipeline.scala:41)\n\tat com.johnsnowlabs.nlp.annotators.sda.pragmatic.SentimentDetector.train(SentimentDetector.scala:296)\n\tat com.johnsnowlabs.nlp.annotators.sda.pragmatic.SentimentDetector.train(SentimentDetector.scala:126)\n\tat com.johnsnowlabs.nlp.AnnotatorApproach._fit(AnnotatorApproach.scala:69)\n\tat com.johnsnowlabs.nlp.AnnotatorApproach.fit(AnnotatorApproach.scala:75)\n\tat sun.reflect.NativeMethodAccessorImpl.invoke0(Native Method)\n\tat sun.reflect.NativeMethodAccessorImpl.invoke(NativeMethodAccessorImpl.java:62)\n\tat sun.reflect.DelegatingMethodAccessorImpl.invoke(DelegatingMethodAccessorImpl.java:43)\n\tat java.lang.reflect.Method.invoke(Method.java:498)\n\tat py4j.reflection.MethodInvoker.invoke(MethodInvoker.java:244)\n\tat py4j.reflection.ReflectionEngine.invoke(ReflectionEngine.java:357)\n\tat py4j.Gateway.invoke(Gateway.java:282)\n\tat py4j.commands.AbstractCommand.invokeMethod(AbstractCommand.java:132)\n\tat py4j.commands.CallCommand.execute(CallCommand.java:79)\n\tat py4j.ClientServerConnection.waitForCommands(ClientServerConnection.java:182)\n\tat py4j.ClientServerConnection.run(ClientServerConnection.java:106)\n\tat java.lang.Thread.run(Thread.java:750)\n",
     "output_type": "error",
     "traceback": [
      "\u001b[0;31m---------------------------------------------------------------------------\u001b[0m",
      "\u001b[0;31mPy4JJavaError\u001b[0m                             Traceback (most recent call last)",
      "Cell \u001b[0;32mIn[43], line 12\u001b[0m\n\u001b[1;32m      9\u001b[0m pipeline_sentiment \u001b[38;5;241m=\u001b[39m Pipeline(stages\u001b[38;5;241m=\u001b[39m[sentiment_detector])\n\u001b[1;32m     11\u001b[0m \u001b[38;5;66;03m# Apply sentiment detection\u001b[39;00m\n\u001b[0;32m---> 12\u001b[0m analyzed_df \u001b[38;5;241m=\u001b[39m \u001b[43mpipeline_sentiment\u001b[49m\u001b[38;5;241;43m.\u001b[39;49m\u001b[43mfit\u001b[49m\u001b[43m(\u001b[49m\u001b[43mlabeled_df\u001b[49m\u001b[43m)\u001b[49m\u001b[38;5;241m.\u001b[39mtransform(labeled_df)\n\u001b[1;32m     14\u001b[0m \u001b[38;5;66;03m# Show the results\u001b[39;00m\n\u001b[1;32m     15\u001b[0m analyzed_df\u001b[38;5;241m.\u001b[39mselect(\u001b[38;5;124m\"\u001b[39m\u001b[38;5;124mcombined_text\u001b[39m\u001b[38;5;124m\"\u001b[39m, \u001b[38;5;124m\"\u001b[39m\u001b[38;5;124msentiment.result\u001b[39m\u001b[38;5;124m\"\u001b[39m, \u001b[38;5;124m\"\u001b[39m\u001b[38;5;124mlabel\u001b[39m\u001b[38;5;124m\"\u001b[39m)\u001b[38;5;241m.\u001b[39mshow(truncate\u001b[38;5;241m=\u001b[39m\u001b[38;5;28;01mFalse\u001b[39;00m)\n",
      "File \u001b[0;32m/usr/local/spark/python/pyspark/ml/base.py:161\u001b[0m, in \u001b[0;36mEstimator.fit\u001b[0;34m(self, dataset, params)\u001b[0m\n\u001b[1;32m    159\u001b[0m         \u001b[38;5;28;01mreturn\u001b[39;00m \u001b[38;5;28mself\u001b[39m\u001b[38;5;241m.\u001b[39mcopy(params)\u001b[38;5;241m.\u001b[39m_fit(dataset)\n\u001b[1;32m    160\u001b[0m     \u001b[38;5;28;01melse\u001b[39;00m:\n\u001b[0;32m--> 161\u001b[0m         \u001b[38;5;28;01mreturn\u001b[39;00m \u001b[38;5;28;43mself\u001b[39;49m\u001b[38;5;241;43m.\u001b[39;49m\u001b[43m_fit\u001b[49m\u001b[43m(\u001b[49m\u001b[43mdataset\u001b[49m\u001b[43m)\u001b[49m\n\u001b[1;32m    162\u001b[0m \u001b[38;5;28;01melse\u001b[39;00m:\n\u001b[1;32m    163\u001b[0m     \u001b[38;5;28;01mraise\u001b[39;00m \u001b[38;5;167;01mTypeError\u001b[39;00m(\u001b[38;5;124m\"\u001b[39m\u001b[38;5;124mParams must be either a param map or a list/tuple of param maps, \u001b[39m\u001b[38;5;124m\"\u001b[39m\n\u001b[1;32m    164\u001b[0m                     \u001b[38;5;124m\"\u001b[39m\u001b[38;5;124mbut got \u001b[39m\u001b[38;5;132;01m%s\u001b[39;00m\u001b[38;5;124m.\u001b[39m\u001b[38;5;124m\"\u001b[39m \u001b[38;5;241m%\u001b[39m \u001b[38;5;28mtype\u001b[39m(params))\n",
      "File \u001b[0;32m/usr/local/spark/python/pyspark/ml/pipeline.py:114\u001b[0m, in \u001b[0;36mPipeline._fit\u001b[0;34m(self, dataset)\u001b[0m\n\u001b[1;32m    112\u001b[0m     dataset \u001b[38;5;241m=\u001b[39m stage\u001b[38;5;241m.\u001b[39mtransform(dataset)\n\u001b[1;32m    113\u001b[0m \u001b[38;5;28;01melse\u001b[39;00m:  \u001b[38;5;66;03m# must be an Estimator\u001b[39;00m\n\u001b[0;32m--> 114\u001b[0m     model \u001b[38;5;241m=\u001b[39m \u001b[43mstage\u001b[49m\u001b[38;5;241;43m.\u001b[39;49m\u001b[43mfit\u001b[49m\u001b[43m(\u001b[49m\u001b[43mdataset\u001b[49m\u001b[43m)\u001b[49m\n\u001b[1;32m    115\u001b[0m     transformers\u001b[38;5;241m.\u001b[39mappend(model)\n\u001b[1;32m    116\u001b[0m     \u001b[38;5;28;01mif\u001b[39;00m i \u001b[38;5;241m<\u001b[39m indexOfLastEstimator:\n",
      "File \u001b[0;32m/usr/local/spark/python/pyspark/ml/base.py:161\u001b[0m, in \u001b[0;36mEstimator.fit\u001b[0;34m(self, dataset, params)\u001b[0m\n\u001b[1;32m    159\u001b[0m         \u001b[38;5;28;01mreturn\u001b[39;00m \u001b[38;5;28mself\u001b[39m\u001b[38;5;241m.\u001b[39mcopy(params)\u001b[38;5;241m.\u001b[39m_fit(dataset)\n\u001b[1;32m    160\u001b[0m     \u001b[38;5;28;01melse\u001b[39;00m:\n\u001b[0;32m--> 161\u001b[0m         \u001b[38;5;28;01mreturn\u001b[39;00m \u001b[38;5;28;43mself\u001b[39;49m\u001b[38;5;241;43m.\u001b[39;49m\u001b[43m_fit\u001b[49m\u001b[43m(\u001b[49m\u001b[43mdataset\u001b[49m\u001b[43m)\u001b[49m\n\u001b[1;32m    162\u001b[0m \u001b[38;5;28;01melse\u001b[39;00m:\n\u001b[1;32m    163\u001b[0m     \u001b[38;5;28;01mraise\u001b[39;00m \u001b[38;5;167;01mTypeError\u001b[39;00m(\u001b[38;5;124m\"\u001b[39m\u001b[38;5;124mParams must be either a param map or a list/tuple of param maps, \u001b[39m\u001b[38;5;124m\"\u001b[39m\n\u001b[1;32m    164\u001b[0m                     \u001b[38;5;124m\"\u001b[39m\u001b[38;5;124mbut got \u001b[39m\u001b[38;5;132;01m%s\u001b[39;00m\u001b[38;5;124m.\u001b[39m\u001b[38;5;124m\"\u001b[39m \u001b[38;5;241m%\u001b[39m \u001b[38;5;28mtype\u001b[39m(params))\n",
      "File \u001b[0;32m/usr/local/spark/python/pyspark/ml/wrapper.py:339\u001b[0m, in \u001b[0;36mJavaEstimator._fit\u001b[0;34m(self, dataset)\u001b[0m\n\u001b[1;32m    338\u001b[0m \u001b[38;5;28;01mdef\u001b[39;00m \u001b[38;5;21m_fit\u001b[39m(\u001b[38;5;28mself\u001b[39m, dataset):\n\u001b[0;32m--> 339\u001b[0m     java_model \u001b[38;5;241m=\u001b[39m \u001b[38;5;28;43mself\u001b[39;49m\u001b[38;5;241;43m.\u001b[39;49m\u001b[43m_fit_java\u001b[49m\u001b[43m(\u001b[49m\u001b[43mdataset\u001b[49m\u001b[43m)\u001b[49m\n\u001b[1;32m    340\u001b[0m     model \u001b[38;5;241m=\u001b[39m \u001b[38;5;28mself\u001b[39m\u001b[38;5;241m.\u001b[39m_create_model(java_model)\n\u001b[1;32m    341\u001b[0m     \u001b[38;5;28;01mreturn\u001b[39;00m \u001b[38;5;28mself\u001b[39m\u001b[38;5;241m.\u001b[39m_copyValues(model)\n",
      "File \u001b[0;32m/usr/local/spark/python/pyspark/ml/wrapper.py:336\u001b[0m, in \u001b[0;36mJavaEstimator._fit_java\u001b[0;34m(self, dataset)\u001b[0m\n\u001b[1;32m    322\u001b[0m \u001b[38;5;250m\u001b[39m\u001b[38;5;124;03m\"\"\"\u001b[39;00m\n\u001b[1;32m    323\u001b[0m \u001b[38;5;124;03mFits a Java model to the input dataset.\u001b[39;00m\n\u001b[1;32m    324\u001b[0m \n\u001b[0;32m   (...)\u001b[0m\n\u001b[1;32m    333\u001b[0m \u001b[38;5;124;03m    fitted Java model\u001b[39;00m\n\u001b[1;32m    334\u001b[0m \u001b[38;5;124;03m\"\"\"\u001b[39;00m\n\u001b[1;32m    335\u001b[0m \u001b[38;5;28mself\u001b[39m\u001b[38;5;241m.\u001b[39m_transfer_params_to_java()\n\u001b[0;32m--> 336\u001b[0m \u001b[38;5;28;01mreturn\u001b[39;00m \u001b[38;5;28;43mself\u001b[39;49m\u001b[38;5;241;43m.\u001b[39;49m\u001b[43m_java_obj\u001b[49m\u001b[38;5;241;43m.\u001b[39;49m\u001b[43mfit\u001b[49m\u001b[43m(\u001b[49m\u001b[43mdataset\u001b[49m\u001b[38;5;241;43m.\u001b[39;49m\u001b[43m_jdf\u001b[49m\u001b[43m)\u001b[49m\n",
      "File \u001b[0;32m~/venv/lib/python3.11/site-packages/py4j/java_gateway.py:1322\u001b[0m, in \u001b[0;36mJavaMember.__call__\u001b[0;34m(self, *args)\u001b[0m\n\u001b[1;32m   1316\u001b[0m command \u001b[38;5;241m=\u001b[39m proto\u001b[38;5;241m.\u001b[39mCALL_COMMAND_NAME \u001b[38;5;241m+\u001b[39m\\\n\u001b[1;32m   1317\u001b[0m     \u001b[38;5;28mself\u001b[39m\u001b[38;5;241m.\u001b[39mcommand_header \u001b[38;5;241m+\u001b[39m\\\n\u001b[1;32m   1318\u001b[0m     args_command \u001b[38;5;241m+\u001b[39m\\\n\u001b[1;32m   1319\u001b[0m     proto\u001b[38;5;241m.\u001b[39mEND_COMMAND_PART\n\u001b[1;32m   1321\u001b[0m answer \u001b[38;5;241m=\u001b[39m \u001b[38;5;28mself\u001b[39m\u001b[38;5;241m.\u001b[39mgateway_client\u001b[38;5;241m.\u001b[39msend_command(command)\n\u001b[0;32m-> 1322\u001b[0m return_value \u001b[38;5;241m=\u001b[39m \u001b[43mget_return_value\u001b[49m\u001b[43m(\u001b[49m\n\u001b[1;32m   1323\u001b[0m \u001b[43m    \u001b[49m\u001b[43manswer\u001b[49m\u001b[43m,\u001b[49m\u001b[43m \u001b[49m\u001b[38;5;28;43mself\u001b[39;49m\u001b[38;5;241;43m.\u001b[39;49m\u001b[43mgateway_client\u001b[49m\u001b[43m,\u001b[49m\u001b[43m \u001b[49m\u001b[38;5;28;43mself\u001b[39;49m\u001b[38;5;241;43m.\u001b[39;49m\u001b[43mtarget_id\u001b[49m\u001b[43m,\u001b[49m\u001b[43m \u001b[49m\u001b[38;5;28;43mself\u001b[39;49m\u001b[38;5;241;43m.\u001b[39;49m\u001b[43mname\u001b[49m\u001b[43m)\u001b[49m\n\u001b[1;32m   1325\u001b[0m \u001b[38;5;28;01mfor\u001b[39;00m temp_arg \u001b[38;5;129;01min\u001b[39;00m temp_args:\n\u001b[1;32m   1326\u001b[0m     \u001b[38;5;28;01mif\u001b[39;00m \u001b[38;5;28mhasattr\u001b[39m(temp_arg, \u001b[38;5;124m\"\u001b[39m\u001b[38;5;124m_detach\u001b[39m\u001b[38;5;124m\"\u001b[39m):\n",
      "File \u001b[0;32m/usr/local/spark/python/pyspark/sql/utils.py:111\u001b[0m, in \u001b[0;36mcapture_sql_exception.<locals>.deco\u001b[0;34m(*a, **kw)\u001b[0m\n\u001b[1;32m    109\u001b[0m \u001b[38;5;28;01mdef\u001b[39;00m \u001b[38;5;21mdeco\u001b[39m(\u001b[38;5;241m*\u001b[39ma, \u001b[38;5;241m*\u001b[39m\u001b[38;5;241m*\u001b[39mkw):\n\u001b[1;32m    110\u001b[0m     \u001b[38;5;28;01mtry\u001b[39;00m:\n\u001b[0;32m--> 111\u001b[0m         \u001b[38;5;28;01mreturn\u001b[39;00m \u001b[43mf\u001b[49m\u001b[43m(\u001b[49m\u001b[38;5;241;43m*\u001b[39;49m\u001b[43ma\u001b[49m\u001b[43m,\u001b[49m\u001b[43m \u001b[49m\u001b[38;5;241;43m*\u001b[39;49m\u001b[38;5;241;43m*\u001b[39;49m\u001b[43mkw\u001b[49m\u001b[43m)\u001b[49m\n\u001b[1;32m    112\u001b[0m     \u001b[38;5;28;01mexcept\u001b[39;00m py4j\u001b[38;5;241m.\u001b[39mprotocol\u001b[38;5;241m.\u001b[39mPy4JJavaError \u001b[38;5;28;01mas\u001b[39;00m e:\n\u001b[1;32m    113\u001b[0m         converted \u001b[38;5;241m=\u001b[39m convert_exception(e\u001b[38;5;241m.\u001b[39mjava_exception)\n",
      "File \u001b[0;32m~/venv/lib/python3.11/site-packages/py4j/protocol.py:326\u001b[0m, in \u001b[0;36mget_return_value\u001b[0;34m(answer, gateway_client, target_id, name)\u001b[0m\n\u001b[1;32m    324\u001b[0m value \u001b[38;5;241m=\u001b[39m OUTPUT_CONVERTER[\u001b[38;5;28mtype\u001b[39m](answer[\u001b[38;5;241m2\u001b[39m:], gateway_client)\n\u001b[1;32m    325\u001b[0m \u001b[38;5;28;01mif\u001b[39;00m answer[\u001b[38;5;241m1\u001b[39m] \u001b[38;5;241m==\u001b[39m REFERENCE_TYPE:\n\u001b[0;32m--> 326\u001b[0m     \u001b[38;5;28;01mraise\u001b[39;00m Py4JJavaError(\n\u001b[1;32m    327\u001b[0m         \u001b[38;5;124m\"\u001b[39m\u001b[38;5;124mAn error occurred while calling \u001b[39m\u001b[38;5;132;01m{0}\u001b[39;00m\u001b[38;5;132;01m{1}\u001b[39;00m\u001b[38;5;132;01m{2}\u001b[39;00m\u001b[38;5;124m.\u001b[39m\u001b[38;5;130;01m\\n\u001b[39;00m\u001b[38;5;124m\"\u001b[39m\u001b[38;5;241m.\u001b[39m\n\u001b[1;32m    328\u001b[0m         \u001b[38;5;28mformat\u001b[39m(target_id, \u001b[38;5;124m\"\u001b[39m\u001b[38;5;124m.\u001b[39m\u001b[38;5;124m\"\u001b[39m, name), value)\n\u001b[1;32m    329\u001b[0m \u001b[38;5;28;01melse\u001b[39;00m:\n\u001b[1;32m    330\u001b[0m     \u001b[38;5;28;01mraise\u001b[39;00m Py4JError(\n\u001b[1;32m    331\u001b[0m         \u001b[38;5;124m\"\u001b[39m\u001b[38;5;124mAn error occurred while calling \u001b[39m\u001b[38;5;132;01m{0}\u001b[39;00m\u001b[38;5;132;01m{1}\u001b[39;00m\u001b[38;5;132;01m{2}\u001b[39;00m\u001b[38;5;124m. Trace:\u001b[39m\u001b[38;5;130;01m\\n\u001b[39;00m\u001b[38;5;132;01m{3}\u001b[39;00m\u001b[38;5;130;01m\\n\u001b[39;00m\u001b[38;5;124m\"\u001b[39m\u001b[38;5;241m.\u001b[39m\n\u001b[1;32m    332\u001b[0m         \u001b[38;5;28mformat\u001b[39m(target_id, \u001b[38;5;124m\"\u001b[39m\u001b[38;5;124m.\u001b[39m\u001b[38;5;124m\"\u001b[39m, name, value))\n",
      "\u001b[0;31mPy4JJavaError\u001b[0m: An error occurred while calling o747.fit.\n: java.util.NoSuchElementException: Failed to find a default value for dictionary\n\tat org.apache.spark.ml.param.Params.$anonfun$getOrDefault$2(params.scala:758)\n\tat scala.Option.getOrElse(Option.scala:189)\n\tat org.apache.spark.ml.param.Params.getOrDefault(params.scala:758)\n\tat org.apache.spark.ml.param.Params.getOrDefault$(params.scala:755)\n\tat org.apache.spark.ml.PipelineStage.getOrDefault(Pipeline.scala:41)\n\tat org.apache.spark.ml.param.Params.$(params.scala:764)\n\tat org.apache.spark.ml.param.Params.$$(params.scala:764)\n\tat org.apache.spark.ml.PipelineStage.$(Pipeline.scala:41)\n\tat com.johnsnowlabs.nlp.annotators.sda.pragmatic.SentimentDetector.train(SentimentDetector.scala:296)\n\tat com.johnsnowlabs.nlp.annotators.sda.pragmatic.SentimentDetector.train(SentimentDetector.scala:126)\n\tat com.johnsnowlabs.nlp.AnnotatorApproach._fit(AnnotatorApproach.scala:69)\n\tat com.johnsnowlabs.nlp.AnnotatorApproach.fit(AnnotatorApproach.scala:75)\n\tat sun.reflect.NativeMethodAccessorImpl.invoke0(Native Method)\n\tat sun.reflect.NativeMethodAccessorImpl.invoke(NativeMethodAccessorImpl.java:62)\n\tat sun.reflect.DelegatingMethodAccessorImpl.invoke(DelegatingMethodAccessorImpl.java:43)\n\tat java.lang.reflect.Method.invoke(Method.java:498)\n\tat py4j.reflection.MethodInvoker.invoke(MethodInvoker.java:244)\n\tat py4j.reflection.ReflectionEngine.invoke(ReflectionEngine.java:357)\n\tat py4j.Gateway.invoke(Gateway.java:282)\n\tat py4j.commands.AbstractCommand.invokeMethod(AbstractCommand.java:132)\n\tat py4j.commands.CallCommand.execute(CallCommand.java:79)\n\tat py4j.ClientServerConnection.waitForCommands(ClientServerConnection.java:182)\n\tat py4j.ClientServerConnection.run(ClientServerConnection.java:106)\n\tat java.lang.Thread.run(Thread.java:750)\n"
     ]
    }
   ],
   "source": [
    "from sparknlp.annotator import SentimentDetector\n",
    "\n",
    "# SentimentDetector setup\n",
    "sentiment_detector = SentimentDetector() \\\n",
    "    .setInputCols([\"combined_text\", \"words\"]) \\\n",
    "    .setOutputCol(\"sentiment\")\n",
    "\n",
    "# Create a new pipeline with the SentimentDetector\n",
    "pipeline_sentiment = Pipeline(stages=[sentiment_detector])\n",
    "\n",
    "# Apply sentiment detection\n",
    "analyzed_df = pipeline_sentiment.fit(labeled_df).transform(labeled_df)\n",
    "\n",
    "# Show the results\n",
    "analyzed_df.select(\"combined_text\", \"sentiment.result\", \"label\").show(truncate=False)\n"
   ]
  },
  {
   "cell_type": "code",
   "execution_count": null,
   "id": "201b5b52-5493-4a36-bb5b-a732c0724926",
   "metadata": {},
   "outputs": [],
   "source": []
  },
  {
   "cell_type": "code",
   "execution_count": null,
   "id": "88a9ac34-d1b6-4fce-8baf-ce9359af210b",
   "metadata": {},
   "outputs": [],
   "source": []
  },
  {
   "cell_type": "code",
   "execution_count": null,
   "id": "2aebd3fd-d8fc-496c-8354-f6bb4cd07dc4",
   "metadata": {},
   "outputs": [],
   "source": []
  },
  {
   "cell_type": "code",
   "execution_count": null,
   "id": "dbc45b61-f87e-4184-a76d-a128d4fd634d",
   "metadata": {},
   "outputs": [],
   "source": []
  },
  {
   "cell_type": "code",
   "execution_count": null,
   "id": "c2077b74-0eba-438f-a452-d5e639521d3b",
   "metadata": {},
   "outputs": [],
   "source": []
  },
  {
   "cell_type": "markdown",
   "id": "a7832770",
   "metadata": {},
   "source": [
    "transform these tokens into numerical feature vectors using HashingTF: Hashing Term Frequency. The output of this function is a sparse vector of term frequency counts for each string."
   ]
  },
  {
   "cell_type": "code",
   "execution_count": 19,
   "id": "15bcb07c",
   "metadata": {},
   "outputs": [],
   "source": [
    "hashtf = HashingTF(inputCol=\"words\", outputCol='tf')"
   ]
  },
  {
   "cell_type": "markdown",
   "id": "9eeaaf2f",
   "metadata": {},
   "source": [
    "After obtaining this frequency vector, we need to pass it into the IDF function. This function will add weights to each word. The more frequent the word is, the lower its weight, and vice versa. This allows us to compensate for the bias in a large corpus of text like this"
   ]
  },
  {
   "cell_type": "code",
   "execution_count": 20,
   "id": "bf87c489",
   "metadata": {},
   "outputs": [],
   "source": [
    "idf = IDF(inputCol='tf', outputCol=\"features\")"
   ]
  },
  {
   "cell_type": "code",
   "execution_count": 21,
   "id": "722f7d39",
   "metadata": {},
   "outputs": [
    {
     "ename": "ModuleNotFoundError",
     "evalue": "No module named 'nltk'",
     "output_type": "error",
     "traceback": [
      "\u001b[0;31m---------------------------------------------------------------------------\u001b[0m",
      "\u001b[0;31mModuleNotFoundError\u001b[0m                       Traceback (most recent call last)",
      "Cell \u001b[0;32mIn[21], line 4\u001b[0m\n\u001b[1;32m      2\u001b[0m \u001b[38;5;28;01mfrom\u001b[39;00m \u001b[38;5;21;01mpyspark\u001b[39;00m\u001b[38;5;21;01m.\u001b[39;00m\u001b[38;5;21;01msql\u001b[39;00m\u001b[38;5;21;01m.\u001b[39;00m\u001b[38;5;21;01mfunctions\u001b[39;00m \u001b[38;5;28;01mimport\u001b[39;00m udf\n\u001b[1;32m      3\u001b[0m \u001b[38;5;28;01mfrom\u001b[39;00m \u001b[38;5;21;01mpyspark\u001b[39;00m\u001b[38;5;21;01m.\u001b[39;00m\u001b[38;5;21;01msql\u001b[39;00m\u001b[38;5;21;01m.\u001b[39;00m\u001b[38;5;21;01mtypes\u001b[39;00m \u001b[38;5;28;01mimport\u001b[39;00m StringType\n\u001b[0;32m----> 4\u001b[0m \u001b[38;5;28;01mimport\u001b[39;00m \u001b[38;5;21;01mnltk\u001b[39;00m\n\u001b[1;32m      5\u001b[0m \u001b[38;5;28;01mfrom\u001b[39;00m \u001b[38;5;21;01mnltk\u001b[39;00m\u001b[38;5;21;01m.\u001b[39;00m\u001b[38;5;21;01msentiment\u001b[39;00m\u001b[38;5;21;01m.\u001b[39;00m\u001b[38;5;21;01mvader\u001b[39;00m \u001b[38;5;28;01mimport\u001b[39;00m SentimentIntensityAnalyzer\n\u001b[1;32m      7\u001b[0m \u001b[38;5;66;03m# Create a SentimentIntensityAnalyzer instance\u001b[39;00m\n",
      "\u001b[0;31mModuleNotFoundError\u001b[0m: No module named 'nltk'"
     ]
    }
   ],
   "source": [
    "from pyspark.sql import SparkSession\n",
    "from pyspark.sql.functions import udf\n",
    "from pyspark.sql.types import StringType\n",
    "import nltk\n",
    "from nltk.sentiment.vader import SentimentIntensityAnalyzer\n",
    "\n",
    "# Create a SentimentIntensityAnalyzer instance\n",
    "sid = SentimentIntensityAnalyzer()\n",
    "\n",
    "# Define a UDF to apply sentiment analysis\n",
    "def analyze_sentiment(text):\n",
    "    return sid.polarity_scores(text)['compound']\n",
    "\n",
    "# Register the UDF\n",
    "analyze_sentiment_udf = udf(analyze_sentiment, StringType())\n",
    "\n",
    "# Apply sentiment analysis to the DataFrame\n",
    "tweets_test = tweets_test.withColumn(\"sentiment_score\", analyze_sentiment_udf(\"text\"))\n",
    "\n",
    "# Show the result\n",
    "tweets_test.show(5,truncate=False)"
   ]
  },
  {
   "cell_type": "code",
   "execution_count": null,
   "id": "6c1a9008",
   "metadata": {},
   "outputs": [],
   "source": []
  },
  {
   "cell_type": "code",
   "execution_count": 22,
   "id": "8b78d709",
   "metadata": {},
   "outputs": [
    {
     "ename": "NameError",
     "evalue": "name 'nltk' is not defined",
     "output_type": "error",
     "traceback": [
      "\u001b[0;31m---------------------------------------------------------------------------\u001b[0m",
      "\u001b[0;31mNameError\u001b[0m                                 Traceback (most recent call last)",
      "Cell \u001b[0;32mIn[22], line 2\u001b[0m\n\u001b[1;32m      1\u001b[0m \u001b[38;5;66;03m# Broadcast the NLTK library to all worker nodes\u001b[39;00m\n\u001b[0;32m----> 2\u001b[0m \u001b[43mnltk\u001b[49m\u001b[38;5;241m.\u001b[39mdownload(\u001b[38;5;124m'\u001b[39m\u001b[38;5;124mvader_lexicon\u001b[39m\u001b[38;5;124m'\u001b[39m)\n\u001b[1;32m      3\u001b[0m broadcast_nltk \u001b[38;5;241m=\u001b[39m spark\u001b[38;5;241m.\u001b[39msparkContext\u001b[38;5;241m.\u001b[39mbroadcast(nltk)\n\u001b[1;32m      5\u001b[0m \u001b[38;5;66;03m# Create a SentimentIntensityAnalyzer instance using the broadcasted NLTK\u001b[39;00m\n",
      "\u001b[0;31mNameError\u001b[0m: name 'nltk' is not defined"
     ]
    }
   ],
   "source": [
    "# Broadcast the NLTK library to all worker nodes\n",
    "nltk.download('vader_lexicon')\n",
    "broadcast_nltk = spark.sparkContext.broadcast(nltk)\n",
    "\n",
    "# Create a SentimentIntensityAnalyzer instance using the broadcasted NLTK\n",
    "sid = broadcast_nltk.value.sentiment.vader.SentimentIntensityAnalyzer()\n",
    "\n",
    "# Define a UDF to apply sentiment analysis\n",
    "def analyze_sentiment(text):\n",
    "    return sid.polarity_scores(text)['compound']\n",
    "\n",
    "# Register the UDF\n",
    "analyze_sentiment_udf = udf(analyze_sentiment, StringType())\n",
    "\n",
    "# Apply sentiment analysis to the DataFrame\n",
    "tweets_test = tweets_test.withColumn(\"sentiment_score\", analyze_sentiment_udf(\"text\"))\n",
    "\n",
    "# Show the result\n",
    "tweets_test.show(5, truncate=False)"
   ]
  },
  {
   "cell_type": "code",
   "execution_count": 23,
   "id": "95dd3116",
   "metadata": {},
   "outputs": [
    {
     "ename": "ModuleNotFoundError",
     "evalue": "No module named 'nltk'",
     "output_type": "error",
     "traceback": [
      "\u001b[0;31m---------------------------------------------------------------------------\u001b[0m",
      "\u001b[0;31mModuleNotFoundError\u001b[0m                       Traceback (most recent call last)",
      "Cell \u001b[0;32mIn[23], line 4\u001b[0m\n\u001b[1;32m      2\u001b[0m \u001b[38;5;28;01mfrom\u001b[39;00m \u001b[38;5;21;01mpyspark\u001b[39;00m\u001b[38;5;21;01m.\u001b[39;00m\u001b[38;5;21;01msql\u001b[39;00m\u001b[38;5;21;01m.\u001b[39;00m\u001b[38;5;21;01mfunctions\u001b[39;00m \u001b[38;5;28;01mimport\u001b[39;00m udf\n\u001b[1;32m      3\u001b[0m \u001b[38;5;28;01mfrom\u001b[39;00m \u001b[38;5;21;01mpyspark\u001b[39;00m\u001b[38;5;21;01m.\u001b[39;00m\u001b[38;5;21;01msql\u001b[39;00m\u001b[38;5;21;01m.\u001b[39;00m\u001b[38;5;21;01mtypes\u001b[39;00m \u001b[38;5;28;01mimport\u001b[39;00m StringType\n\u001b[0;32m----> 4\u001b[0m \u001b[38;5;28;01mimport\u001b[39;00m \u001b[38;5;21;01mnltk\u001b[39;00m\n\u001b[1;32m      5\u001b[0m \u001b[38;5;28;01mfrom\u001b[39;00m \u001b[38;5;21;01mnltk\u001b[39;00m\u001b[38;5;21;01m.\u001b[39;00m\u001b[38;5;21;01msentiment\u001b[39;00m\u001b[38;5;21;01m.\u001b[39;00m\u001b[38;5;21;01mvader\u001b[39;00m \u001b[38;5;28;01mimport\u001b[39;00m SentimentIntensityAnalyzer\n",
      "\u001b[0;31mModuleNotFoundError\u001b[0m: No module named 'nltk'"
     ]
    }
   ],
   "source": [
    "from pyspark.sql import SparkSession\n",
    "from pyspark.sql.functions import udf\n",
    "from pyspark.sql.types import StringType\n",
    "import nltk\n",
    "from nltk.sentiment.vader import SentimentIntensityAnalyzer"
   ]
  },
  {
   "cell_type": "code",
   "execution_count": 27,
   "id": "6da00d7d",
   "metadata": {},
   "outputs": [],
   "source": [
    "#!pip install textblob\n",
    "#error: externally-managed-environment\n",
    "\n",
    "#!pip3 install sparknlp"
   ]
  },
  {
   "cell_type": "markdown",
   "id": "7019887d",
   "metadata": {},
   "source": [
    "#### Sentiment extration using SparkNLP library/pipeline\n",
    "\n",
    "The sentiment analysis results will be stored in the 'sentiment.result' column once the data is preprocessed.\n",
    "\n",
    "This pipeline uses the DocumentAssembler to assemble the words into documents, which is required for the Spark NLP SentimentDetector. Then, it applies the sentiment analysis using the trained model."
   ]
  },
  {
   "cell_type": "code",
   "execution_count": 25,
   "id": "fc0f1b6c",
   "metadata": {},
   "outputs": [],
   "source": [
    "#!pip install sparknlp"
   ]
  },
  {
   "cell_type": "code",
   "execution_count": 26,
   "id": "01792f39",
   "metadata": {},
   "outputs": [
    {
     "ename": "TypeError",
     "evalue": "setInputCols in SentimentDetector_43d6bdaa0c1c expecting 2 columns. Provided column amount: 1. Which should be columns from the following annotators: ['token', 'document']",
     "output_type": "error",
     "traceback": [
      "\u001b[0;31m---------------------------------------------------------------------------\u001b[0m",
      "\u001b[0;31mTypeError\u001b[0m                                 Traceback (most recent call last)",
      "Cell \u001b[0;32mIn[26], line 15\u001b[0m\n\u001b[1;32m     12\u001b[0m document_assembler \u001b[38;5;241m=\u001b[39m DocumentAssembler()\u001b[38;5;241m.\u001b[39msetInputCol(\u001b[38;5;124m\"\u001b[39m\u001b[38;5;124mwords\u001b[39m\u001b[38;5;124m\"\u001b[39m)\u001b[38;5;241m.\u001b[39msetOutputCol(\u001b[38;5;124m\"\u001b[39m\u001b[38;5;124mdocument\u001b[39m\u001b[38;5;124m\"\u001b[39m)\n\u001b[1;32m     14\u001b[0m \u001b[38;5;66;03m# Sentiment analysis\u001b[39;00m\n\u001b[0;32m---> 15\u001b[0m sentiment_detector \u001b[38;5;241m=\u001b[39m \u001b[43mSentimentDetector\u001b[49m\u001b[43m(\u001b[49m\u001b[43m)\u001b[49m\u001b[38;5;241;43m.\u001b[39;49m\u001b[43msetInputCols\u001b[49m\u001b[43m(\u001b[49m\u001b[43m[\u001b[49m\u001b[38;5;124;43m\"\u001b[39;49m\u001b[38;5;124;43mdocument\u001b[39;49m\u001b[38;5;124;43m\"\u001b[39;49m\u001b[43m]\u001b[49m\u001b[43m)\u001b[49m\u001b[38;5;241m.\u001b[39msetOutputCol(\u001b[38;5;124m\"\u001b[39m\u001b[38;5;124msentiment\u001b[39m\u001b[38;5;124m\"\u001b[39m)\n\u001b[1;32m     17\u001b[0m \u001b[38;5;66;03m# Create a pipeline\u001b[39;00m\n\u001b[1;32m     18\u001b[0m pipeline \u001b[38;5;241m=\u001b[39m Pipeline(stages\u001b[38;5;241m=\u001b[39m[document_assembler, sentiment_detector])\n",
      "File \u001b[0;32m~/venv/lib/python3.11/site-packages/sparknlp/common/annotator_properties.py:51\u001b[0m, in \u001b[0;36mAnnotatorProperties.setInputCols\u001b[0;34m(self, *value)\u001b[0m\n\u001b[1;32m     43\u001b[0m \u001b[38;5;250m\u001b[39m\u001b[38;5;124;03m\"\"\"Sets column names of input annotations.\u001b[39;00m\n\u001b[1;32m     44\u001b[0m \n\u001b[1;32m     45\u001b[0m \u001b[38;5;124;03mParameters\u001b[39;00m\n\u001b[0;32m   (...)\u001b[0m\n\u001b[1;32m     48\u001b[0m \u001b[38;5;124;03m    Input columns for the annotator\u001b[39;00m\n\u001b[1;32m     49\u001b[0m \u001b[38;5;124;03m\"\"\"\u001b[39;00m\n\u001b[1;32m     50\u001b[0m \u001b[38;5;28;01mif\u001b[39;00m \u001b[38;5;28mtype\u001b[39m(value[\u001b[38;5;241m0\u001b[39m]) \u001b[38;5;241m==\u001b[39m \u001b[38;5;28mstr\u001b[39m \u001b[38;5;129;01mor\u001b[39;00m \u001b[38;5;28mtype\u001b[39m(value[\u001b[38;5;241m0\u001b[39m]) \u001b[38;5;241m==\u001b[39m \u001b[38;5;28mlist\u001b[39m:\n\u001b[0;32m---> 51\u001b[0m     \u001b[38;5;28;43mself\u001b[39;49m\u001b[38;5;241;43m.\u001b[39;49m\u001b[43minputColsValidation\u001b[49m\u001b[43m(\u001b[49m\u001b[43mvalue\u001b[49m\u001b[43m)\u001b[49m\n\u001b[1;32m     52\u001b[0m     \u001b[38;5;28;01mif\u001b[39;00m \u001b[38;5;28mlen\u001b[39m(value) \u001b[38;5;241m==\u001b[39m \u001b[38;5;241m1\u001b[39m \u001b[38;5;129;01mand\u001b[39;00m \u001b[38;5;28mtype\u001b[39m(value[\u001b[38;5;241m0\u001b[39m]) \u001b[38;5;241m==\u001b[39m \u001b[38;5;28mlist\u001b[39m:\n\u001b[1;32m     53\u001b[0m         \u001b[38;5;28;01mreturn\u001b[39;00m \u001b[38;5;28mself\u001b[39m\u001b[38;5;241m.\u001b[39m_set(inputCols\u001b[38;5;241m=\u001b[39mvalue[\u001b[38;5;241m0\u001b[39m])\n",
      "File \u001b[0;32m~/venv/lib/python3.11/site-packages/sparknlp/common/annotator_properties.py:68\u001b[0m, in \u001b[0;36mAnnotatorProperties.inputColsValidation\u001b[0;34m(self, value)\u001b[0m\n\u001b[1;32m     66\u001b[0m \u001b[38;5;28;01mif\u001b[39;00m \u001b[38;5;28mlen\u001b[39m(\u001b[38;5;28mself\u001b[39m\u001b[38;5;241m.\u001b[39moptionalInputAnnotatorTypes) \u001b[38;5;241m==\u001b[39m \u001b[38;5;241m0\u001b[39m:\n\u001b[1;32m     67\u001b[0m     \u001b[38;5;28;01mif\u001b[39;00m actual_columns \u001b[38;5;241m!=\u001b[39m expected_columns:\n\u001b[0;32m---> 68\u001b[0m         \u001b[38;5;28;01mraise\u001b[39;00m \u001b[38;5;167;01mTypeError\u001b[39;00m(\n\u001b[1;32m     69\u001b[0m             \u001b[38;5;124mf\u001b[39m\u001b[38;5;124m\"\u001b[39m\u001b[38;5;124msetInputCols in \u001b[39m\u001b[38;5;132;01m{\u001b[39;00m\u001b[38;5;28mself\u001b[39m\u001b[38;5;241m.\u001b[39muid\u001b[38;5;132;01m}\u001b[39;00m\u001b[38;5;124m expecting \u001b[39m\u001b[38;5;132;01m{\u001b[39;00mexpected_columns\u001b[38;5;132;01m}\u001b[39;00m\u001b[38;5;124m columns. \u001b[39m\u001b[38;5;124m\"\u001b[39m\n\u001b[1;32m     70\u001b[0m             \u001b[38;5;124mf\u001b[39m\u001b[38;5;124m\"\u001b[39m\u001b[38;5;124mProvided column amount: \u001b[39m\u001b[38;5;132;01m{\u001b[39;00mactual_columns\u001b[38;5;132;01m}\u001b[39;00m\u001b[38;5;124m. \u001b[39m\u001b[38;5;124m\"\u001b[39m\n\u001b[1;32m     71\u001b[0m             \u001b[38;5;124mf\u001b[39m\u001b[38;5;124m\"\u001b[39m\u001b[38;5;124mWhich should be columns from the following annotators: \u001b[39m\u001b[38;5;132;01m{\u001b[39;00m\u001b[38;5;28mself\u001b[39m\u001b[38;5;241m.\u001b[39minputAnnotatorTypes\u001b[38;5;132;01m}\u001b[39;00m\u001b[38;5;124m\"\u001b[39m)\n\u001b[1;32m     72\u001b[0m \u001b[38;5;28;01melse\u001b[39;00m:\n\u001b[1;32m     73\u001b[0m     expected_columns \u001b[38;5;241m=\u001b[39m expected_columns \u001b[38;5;241m+\u001b[39m \u001b[38;5;28mlen\u001b[39m(\u001b[38;5;28mself\u001b[39m\u001b[38;5;241m.\u001b[39moptionalInputAnnotatorTypes)\n",
      "\u001b[0;31mTypeError\u001b[0m: setInputCols in SentimentDetector_43d6bdaa0c1c expecting 2 columns. Provided column amount: 1. Which should be columns from the following annotators: ['token', 'document']"
     ]
    }
   ],
   "source": [
    "from pyspark.sql import SparkSession\n",
    "from pyspark.ml import Pipeline\n",
    "from sparknlp.annotator import SentimentDetector\n",
    "from sparknlp.base import DocumentAssembler\n",
    "from pyspark.sql.functions import col\n",
    "\n",
    "# Create a Spark session\n",
    "spark = SparkSession.builder.appName(\"SentimentAnalysis\").getOrCreate()\n",
    "\n",
    "# \n",
    "# Create a DocumentAssembler\n",
    "document_assembler = DocumentAssembler().setInputCol(\"words\").setOutputCol(\"document\")\n",
    "\n",
    "# Sentiment analysis\n",
    "sentiment_detector = SentimentDetector().setInputCols([\"document\"]).setOutputCol(\"sentiment\")\n",
    "\n",
    "# Create a pipeline\n",
    "pipeline = Pipeline(stages=[document_assembler, sentiment_detector])\n",
    "\n",
    "# Fit the pipeline on your DataFrame\n",
    "model = pipeline.fit(tweets_df)\n",
    "\n",
    "# Transform the DataFrame\n",
    "result = model.transform(tweets_df)\n",
    "\n",
    "# Show the result\n",
    "result.select(\"text\", \"sentiment.result\").show(truncate=False)"
   ]
  },
  {
   "cell_type": "code",
   "execution_count": null,
   "id": "e3ace4eb",
   "metadata": {},
   "outputs": [],
   "source": [
    "#!pip3 install vaderSentiment\n",
    "#error: externally-managed-environment"
   ]
  },
  {
   "cell_type": "markdown",
   "id": "f2dd7eb9",
   "metadata": {},
   "source": [
    "the main differences between the Pandas & PySpark, operations on Pyspark run faster than Pandas due to its distributed nature and parallel execution on multiple cores and machines.\n",
    "\n",
    "In other words, pandas run operations on a single node whereas PySpark runs on multiple machines. If you are working on a Machine Learning application where you are dealing with larger datasets, PySpark processes operations many times faster than pandas.\n",
    "\n",
    "scaling a cluster involves a trade-off between performance and cost. Adding more resources may improve performance, but it also increases infrastructure costs. It's essential to find the right balance based on your application's requirements and budget constraints."
   ]
  },
  {
   "cell_type": "code",
   "execution_count": null,
   "id": "d989fa18",
   "metadata": {},
   "outputs": [],
   "source": []
  },
  {
   "cell_type": "code",
   "execution_count": null,
   "id": "89174ad8",
   "metadata": {},
   "outputs": [],
   "source": [
    "#tweets_df = tweets_test.toPandas()\n",
    "#print(tweets_df)"
   ]
  },
  {
   "cell_type": "code",
   "execution_count": null,
   "id": "2ddb7ce4",
   "metadata": {},
   "outputs": [],
   "source": [
    "#tweets_df"
   ]
  },
  {
   "cell_type": "code",
   "execution_count": null,
   "id": "7a9f384f",
   "metadata": {},
   "outputs": [],
   "source": [
    "import nltk\n",
    "nltk.download('punkt')\n",
    "from nltk.stem import WordNetLemmatizer\n",
    "nltk.download('wordnet')\n",
    "nltk.download('vader_lexicon')"
   ]
  },
  {
   "cell_type": "code",
   "execution_count": null,
   "id": "79983b41",
   "metadata": {},
   "outputs": [],
   "source": [
    "from nltk.sentiment import SentimentIntensityAnalyzer\n",
    "\n",
    "sid = SentimentIntensityAnalyzer()\n",
    "pandas_df['sentiment'] = pandas_df['cleaned_text'].apply(lambda x: 1 if sid.polarity_scores(str(x))['compound'] > 0 else 0)"
   ]
  },
  {
   "cell_type": "code",
   "execution_count": null,
   "id": "f61864e4",
   "metadata": {},
   "outputs": [],
   "source": [
    "from pyspark.sql.functions import udf\n",
    "from pyspark.sql.types import StringType\n",
    "\n",
    "@udf(StringType())\n",
    "def analyze_sentiment(tokens):\n",
    "    # Import NLTK and perform sentiment analysis\n",
    "    from nltk.sentiment import SentimentIntensityAnalyzer\n",
    "    sid = SentimentIntensityAnalyzer()\n",
    "    \n",
    "    # Combine tokens into a string (assuming 'tokens' is a list of words)\n",
    "    text = \" \".join(tokens)\n",
    "\n",
    "    # Perform sentiment analysis\n",
    "    sentiment_score = sid.polarity_scores(text)\n",
    "\n",
    "    # Return sentiment label based on the compound score\n",
    "    if sentiment_score['compound'] >= 0.05:\n",
    "        return 'positive'\n",
    "    elif sentiment_score['compound'] <= -0.05:\n",
    "        return 'negative'\n",
    "    else:\n",
    "        return 'neutral'\n"
   ]
  },
  {
   "cell_type": "code",
   "execution_count": null,
   "id": "e25ea712",
   "metadata": {},
   "outputs": [],
   "source": [
    "from pyspark.sql import SparkSession\n",
    "\n",
    "spark = SparkSession.builder.appName(\"SentimentAnalysis\").getOrCreate()\n",
    "\n",
    "# Assuming 'df' is your tokenized DataFrame with a column named 'tokens'\n",
    "tweets_test = tweets_test.withColumn(\"sentiment\", analyze_sentiment(tweets_test.tokens))"
   ]
  },
  {
   "cell_type": "markdown",
   "id": "601fd3f0",
   "metadata": {},
   "source": [
    "The VADER sentiment analyzer is a simple rule-based model that works well for social media text. If you need more advanced sentiment analysis, you might want to explore machine learning-based approaches, such as using pre-trained models like BERT or spaCy.\n",
    "\n",
    "\"By far the most popular and comprehensive library, to my knowledge, for Spark-native distributed NLP, is spark-nlp from John Snow Labs. https://nlp.johnsnowlabs.com/ It is open source (but with commercial support options) and has a whole lot of functionality.\n",
    "\n",
    "You can also use spacy, nltk, and other non-Spark NLP libraries with Spark, by writing pandas UDFs that leverage these libraries, then applying them to data with Spark.\"https://community.databricks.com/t5/machine-learning/what-are-best-nlp-libraries-to-use-with-spark/td-p/24033#:~:text=You%20can%20also%20use%20spacy,them%20to%20data%20with%20Spark.\n"
   ]
  },
  {
   "cell_type": "code",
   "execution_count": null,
   "id": "1fc67c97",
   "metadata": {},
   "outputs": [],
   "source": [
    "import nltk\n",
    "from nltk.sentiment.vader import SentimentIntensityAnalyzer\n",
    "sid = SentimentIntensityAnalyzer()"
   ]
  },
  {
   "cell_type": "code",
   "execution_count": null,
   "id": "5b678954",
   "metadata": {},
   "outputs": [],
   "source": []
  },
  {
   "cell_type": "markdown",
   "id": "397ba739",
   "metadata": {},
   "source": [
    "- store cleaned dataset back to hbase/mysql\n"
   ]
  },
  {
   "cell_type": "markdown",
   "id": "3dfb7845",
   "metadata": {},
   "source": [
    "#### Importing dataset from HBase using a Connector."
   ]
  },
  {
   "cell_type": "code",
   "execution_count": null,
   "id": "615bf807",
   "metadata": {},
   "outputs": [],
   "source": [
    "from pyspark.sql import SparkSession\n",
    "from pyspark.sql.functions import udf\n",
    "from pyspark.sql.types import StringType\n",
    "import nltk\n",
    "from nltk.sentiment.vader import SentimentIntensityAnalyzer\n",
    "\n",
    "# Initialize Spark Session\n",
    "spark = SparkSession.builder \\\n",
    "    .appName(\"ProjectTweets\") \\\n",
    "    .master(\"local[*]\") \\\n",
    "    .config(\"spark.jars.packages\", \"com.johnsnowlabs.nlp:spark-nlp_2.12:5.1.4\") \\\n",
    "    .config(\"spark.serializer\", \"org.apache.spark.serializer.KryoSerializer\") \\\n",
    "    .config(\"spark.kryo.registrator\", \"com.johnsnowlabs.nlp.serialization.SparkNLPKryoRegistrator\") \\\n",
    "    .getOrCreate()\n",
    "\n",
    "# Download NLTK data\n",
    "nltk.download('vader_lexicon')\n",
    "\n",
    "# Broadcast the NLTK library to all worker nodes\n",
    "broadcast_nltk = spark.sparkContext.broadcast(nltk)\n",
    "\n",
    "# Define a UDF to apply sentiment analysis\n",
    "def analyze_sentiment(text):\n",
    "    # Access the SentimentIntensityAnalyzer from the broadcasted NLTK\n",
    "    sid = SentimentIntensityAnalyzer()\n",
    "    return sid.polarity_scores(text)['compound']\n",
    "\n",
    "# Register the UDF\n",
    "analyze_sentiment_udf = udf(analyze_sentiment, StringType())\n",
    "\n",
    "# Apply sentiment analysis to the DataFrame\n",
    "tweets_test = tweets_test.withColumn(\"sentiment_score\", analyze_sentiment_udf(\"text\"))\n",
    "\n",
    "# Show the result\n",
    "tweets_test.show(5, truncate=False)"
   ]
  },
  {
   "cell_type": "code",
   "execution_count": null,
   "id": "64fd392e",
   "metadata": {},
   "outputs": [],
   "source": []
  },
  {
   "cell_type": "code",
   "execution_count": null,
   "id": "786231cf",
   "metadata": {},
   "outputs": [],
   "source": []
  }
 ],
 "metadata": {
  "kernelspec": {
   "display_name": "Python 3 (ipykernel)",
   "language": "python",
   "name": "python3"
  },
  "language_info": {
   "codemirror_mode": {
    "name": "ipython",
    "version": 3
   },
   "file_extension": ".py",
   "mimetype": "text/x-python",
   "name": "python",
   "nbconvert_exporter": "python",
   "pygments_lexer": "ipython3",
   "version": "3.11.4"
  }
 },
 "nbformat": 4,
 "nbformat_minor": 5
}
